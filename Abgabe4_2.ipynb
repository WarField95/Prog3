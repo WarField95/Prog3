{
 "cells": [
  {
   "cell_type": "markdown",
   "metadata": {},
   "source": [
    "Modell Abgabe 4\n",
    "\n",
    "**Earth**\n",
    "\n",
    "    - Relative position of earth to Sun\n",
    "    - Mass of earth\n",
    "    - Earths speed at this moment"
   ]
  },
  {
   "cell_type": "code",
   "execution_count": 1,
   "metadata": {},
   "outputs": [],
   "source": [
    "earthPos = [149.6 * 10 ** 9, 0, 0]\n",
    "earthMass = 5.972 * 10 ** 24\n",
    "earthSpeed = [0, -29.78 * 10 ** 3, 0]"
   ]
  },
  {
   "cell_type": "markdown",
   "metadata": {},
   "source": [
    "**Sun**\n",
    "    \n",
    "    - Relative position of sun to earth\n",
    "    - Mass of Sun"
   ]
  },
  {
   "cell_type": "code",
   "execution_count": 2,
   "metadata": {},
   "outputs": [],
   "source": [
    "sunPos = [0, 0, 0]\n",
    "sunMass = 1.989 * 10 ** 30"
   ]
  },
  {
   "cell_type": "markdown",
   "metadata": {},
   "source": [
    "**Gravitational power**"
   ]
  },
  {
   "cell_type": "code",
   "execution_count": 3,
   "metadata": {},
   "outputs": [],
   "source": [
    "G = 6.672 * 10 ** -11"
   ]
  },
  {
   "cell_type": "markdown",
   "metadata": {},
   "source": [
    "**Delta time (t) for calculating waypoints**"
   ]
  },
  {
   "cell_type": "code",
   "execution_count": 4,
   "metadata": {},
   "outputs": [],
   "source": [
    "tDelta = 60 * 60"
   ]
  },
  {
   "cell_type": "markdown",
   "metadata": {},
   "source": [
    "**Calculations**\n",
    "\n",
    "**Directional distance sun - earth**\n",
    "\n",
    "earthToSun = sunPos - earthPos\n",
    "\n",
    "**Euklydical distance sun - earth**\n",
    "\n",
    "distance = (x^2 + y^2 + z^2)**0.5\n",
    "\n",
    "**Gravitational power with mass center sun - earth**\n",
    "\n",
    "power = G * earthMass * sunMass / distance^3 * (sunPos - earthPos)\n",
    "\n",
    "**Directional acceleration of earth**\n",
    "\n",
    "acceleration = g / earthMass for every object in power\n",
    "\n",
    "**Directional speed for delta time**\n",
    "\n",
    "earthSpeed = earthSpeed + acceleration of delta time\n",
    "\n",
    "**Positional vector of earth dependent on delta time**\n",
    "\n",
    "earthPos = earthPos + acceleration / delta time + acceleration / delta time ^2 * 2"
   ]
  },
  {
   "cell_type": "code",
   "execution_count": 7,
   "metadata": {},
   "outputs": [],
   "source": [
    " def berechnungen():\n",
    "    global earthPos\n",
    "    global earthSpeed\n",
    "    earthToSun = list(map(lambda x, y: x - y, sunPos, earthPos))\n",
    "    distance = sum(x ** 2 for x in earthToSun)**.5\n",
    "    power = [G * earthMass * sunMass / distance ** 3 * x for x in earthToSun]\n",
    "    acceleration = [g / earthMass for g in power]\n",
    "    earthPos = list(map(lambda x, y, z: x + y * tDelta + z * (tDelta ** 2) / 2, \n",
    "                              earthPos, earthSpeed, acceleration))\n",
    "    earthSpeed = list(map(lambda v, a: v + a * tDelta, earthSpeed, acceleration))\n",
    "    return earthPos"
   ]
  },
  {
   "cell_type": "markdown",
   "metadata": {},
   "source": [
    "**Displaying of a roundabout for sun which takes about one year**   \n",
    "   \n",
    "    - 1 year, tDelta is one hour, so we need to calculate 365*24 positions\n",
    "    - This lot of positions will be saved into a list to save them for grafic\n",
    "    - The easiest tool here to display this will be the matplotlib"
   ]
  },
  {
   "cell_type": "code",
   "execution_count": 8,
   "metadata": {},
   "outputs": [
    {
     "data": {
      "image/png": "[encoded data removed]",
      "text/plain": [
       "<Figure size 432x288 with 1 Axes>"
      ]
     },
     "metadata": {
      "needs_background": "light"
     },
     "output_type": "display_data"
    }
   ],
   "source": [
    "%matplotlib inline\n",
    "import matplotlib.pyplot as plt\n",
    "\n",
    "positions = [berechnungen() for x in range(365 * 24)]\n",
    "\n",
    "plt.title('Erde&Sonne')\n",
    "plt.xlabel('x')\n",
    "plt.ylabel('y')\n",
    "plt.scatter(sunPos[0], sunPos[1])\n",
    "plt.plot([p[0] for p in positions], [p[1] for p in positions])\n",
    "plt.show()"
   ]
  },
  {
   "cell_type": "code",
   "execution_count": null,
   "metadata": {},
   "outputs": [],
   "source": []
  }
 ],
 "metadata": {
  "kernelspec": {
   "display_name": "Python 3",
   "language": "python",
   "name": "python3"
  },
  "language_info": {
   "codemirror_mode": {
    "name": "ipython",
    "version": 3
   },
   "file_extension": ".py",
   "mimetype": "text/x-python",
   "name": "python",
   "nbconvert_exporter": "python",
   "pygments_lexer": "ipython3",
   "version": "3.7.0"
  }
 },
 "nbformat": 4,
 "nbformat_minor": 2
}
