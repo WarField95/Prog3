{
 "cells": [
  {
   "cell_type": "markdown",
   "metadata": {},
   "source": [
    "# Blatt 9"
   ]
  },
  {
   "cell_type": "markdown",
   "metadata": {},
   "source": [
    "## Aufgabe 8.3"
   ]
  },
  {
   "cell_type": "code",
   "execution_count": 1,
   "metadata": {},
   "outputs": [],
   "source": [
    "import random, math\n",
    "def monteCarlo(runAmount = 900):\n",
    "    m = 1000\n",
    "    resultInside = 0\n",
    "    \n",
    "    for i in range(0, runAmount):\n",
    "        if(math.sqrt(2 * (float(random.randint(0, m) / m) * float(random.randint(0, m) / m)))) <= 1:\n",
    "            resultInside += 1\n",
    "            \n",
    "    return (resultInside / runAmount) * 4"
   ]
  },
  {
   "cell_type": "code",
   "execution_count": 2,
   "metadata": {},
   "outputs": [],
   "source": [
    "import multiprocessing\n",
    "import itertools\n",
    "import random, math\n",
    "def monteCarloParallelMap(runAmount = 900):\n",
    "    cores = multiprocessing.cpu_count()\n",
    "    l = []\n",
    "    \n",
    "    for i in range(0, runAmount):\n",
    "        l.append((i, 0))\n",
    "        \n",
    "    process_pool = multiprocessing.Pool(processes=multiprocessing.cpu_count())\n",
    "    result = process_pool.starmap(mapLoop, l)\n",
    "    resultInside = sum(result)\n",
    "    process_pool.close()\n",
    "    \n",
    "    return (resultInside / runAmount) * 4\n",
    "def mapLoop(act, isInside):\n",
    "    m = 1000\n",
    "    \n",
    "    if(math.sqrt(2 * (float(random.randint(0, m) / m) * float(random.randint(0, m) / m)))) <= 1:\n",
    "        isInside = 1\n",
    "        \n",
    "    return isInside"
   ]
  },
  {
   "cell_type": "code",
   "execution_count": 3,
   "metadata": {},
   "outputs": [],
   "source": [
    "import multiprocessing\n",
    "import itertools\n",
    "import random, math\n",
    "def monteCarloParallelQueue(runAmount = 900):\n",
    "    cores = multiprocessing.cpu_count()\n",
    "    argumentQueue = multiprocessing.JoinableQueue()\n",
    "    resultQueue = multiprocessing.Queue()\n",
    "    processes = [\n",
    "        multiprocessing.Process(\n",
    "            target = queueLoop,\n",
    "            args = (argumentQueue, resultQueue)\n",
    "        ) for i in range(multiprocessing.cpu_count())\n",
    "    ]\n",
    "    \n",
    "    for i in range(0, runAmount):\n",
    "        argumentQueue.put(i)\n",
    "        \n",
    "    for p in processes:\n",
    "        p.start()\n",
    "        \n",
    "    argumentQueue.join()\n",
    "    \n",
    "    for p in processes:\n",
    "        p.terminate()\n",
    "    \n",
    "    resultInside = 0\n",
    "    \n",
    "    for i in range(0, runAmount):\n",
    "        resultInside += int(resultQueue.get())\n",
    "        \n",
    "    return str((resultInside / runAmount) * 4)\n",
    "def queueLoop(inQ, outQ):\n",
    "    m = 1000\n",
    "    \n",
    "    while True:\n",
    "        inQ.get()\n",
    "        result = 0\n",
    "        \n",
    "        if(math.sqrt(2 * (float(random.randint(0, m) / m) * float(random.randint(0, m) / m)))) <= 1:\n",
    "            result = 1\n",
    "            \n",
    "        outQ.put(result)\n",
    "        inQ.task_done()"
   ]
  },
  {
   "cell_type": "code",
   "execution_count": null,
   "metadata": {},
   "outputs": [],
   "source": [
    "totalRuns = 900\n",
    "\n",
    "%timeit monteCarlo(totalRuns)\n",
    "%timeit monteCarloParallelMap(totalRuns)\n",
    "%timeit monteCarloParallelQueue(totalRuns)\n",
    "\n",
    "print(monteCarlo(totalRuns))\n",
    "print(monteCarloParallelMap(totalRuns))\n",
    "print(monteCarloParallelQueue(totalRuns))"
   ]
  },
  {
   "cell_type": "markdown",
   "metadata": {},
   "source": [
    "## Aufgabe 8.4"
   ]
  },
  {
   "cell_type": "code",
   "execution_count": 21,
   "metadata": {},
   "outputs": [],
   "source": [
    "import numpy\n",
    "nrOfListEntries = 10**6\n",
    "a = numpy.random.normal(3, 1, size = nrOfListEntries).astype(numpy.float32)\n",
    "#a = numpy.random.normal(3, 1, size = nrOfListEntries).astype(numpy.float64)"
   ]
  },
  {
   "cell_type": "code",
   "execution_count": 22,
   "metadata": {},
   "outputs": [
    {
     "name": "stdout",
     "output_type": "stream",
     "text": [
      "[2.476603  2.6687083 1.5538356 ... 2.2742844 3.363559  2.733765 ]\n"
     ]
    }
   ],
   "source": [
    "print(a)"
   ]
  },
  {
   "cell_type": "code",
   "execution_count": 23,
   "metadata": {},
   "outputs": [
    {
     "name": "stdout",
     "output_type": "stream",
     "text": [
      "The Cython extension is already loaded. To reload it, use:\n",
      "  %reload_ext Cython\n"
     ]
    }
   ],
   "source": [
    "%load_ext Cython\n",
    "#%reload_ext Cython"
   ]
  },
  {
   "cell_type": "code",
   "execution_count": 24,
   "metadata": {},
   "outputs": [],
   "source": [
    "%%cython -f -c-fopenmp --link-args=-fopenmp\n",
    "\n",
    "\n",
    "\"\"\"\n",
    "Implementation of mean and standard deviation calculation using\n",
    "cython.parallel\n",
    "\"\"\"\n",
    "#from __future__ import with_statement\n",
    "from cython.parallel import prange\n",
    "import numpy\n",
    "cimport numpy\n",
    "cimport cython\n",
    "from libc.math cimport sqrt\n",
    "\n",
    "ctypedef numpy.float32_t dtype_t\n",
    "\n",
    "@cython.boundscheck(False)\n",
    "@cython.cdivision(True)\n",
    "cpdef numpy.ndarray[dtype_t, ndim=1] cython_stat_parallel(\n",
    "        numpy.ndarray[dtype_t, ndim=1] l):\n",
    "    \"\"\"\n",
    "    calculate mean and standard deviation of data stored in a list\n",
    "    using cython parallel.\n",
    "    Args:\n",
    "        l numpy array containing numbers\n",
    "    Returns:\n",
    "        list [mean, standardDeviation] \n",
    "    \"\"\"\n",
    "    cdef double average, standard_deviation, skewness, kurtosis, tmp\n",
    "    cdef double accumulator = 0.0\n",
    "    cdef long N, i\n",
    "\n",
    "    N = len(l)\n",
    "    for i in prange(N, nogil=True):\n",
    "        accumulator += l[i]\n",
    "    average = accumulator / N\n",
    "    accumulator = 0.0\n",
    "    for i in prange(N, nogil=True):\n",
    "        tmp = l[i] - average\n",
    "        accumulator += tmp * tmp\n",
    "        skewness += tmp * tmp * tmp\n",
    "        kurtosis += tmp * tmp * tmp * tmp\n",
    "    standard_deviation = sqrt(accumulator / (N - 1))\n",
    "    skewness = skewness / pow(standard_deviation, 3)\n",
    "    kurtosis = kurtosis / pow(standard_deviation, 4)\n",
    "    \n",
    "    result = numpy.array((average, standard_deviation, skewness, kurtosis), numpy.float32)\n",
    "    return result"
   ]
  },
  {
   "cell_type": "code",
   "execution_count": 30,
   "metadata": {},
   "outputs": [
    {
     "name": "stdout",
     "output_type": "stream",
     "text": [
      "[3.0022352e+00 9.9983335e-01 8.7802014e+02 3.0011998e+06]\n"
     ]
    }
   ],
   "source": [
    "#%timeit cython_stat_parallel(a)\n",
    "print(cython_stat_parallel(a))"
   ]
  }
 ],
 "metadata": {
  "kernelspec": {
   "display_name": "Python 3",
   "language": "python",
   "name": "python3"
  },
  "language_info": {
   "codemirror_mode": {
    "name": "ipython",
    "version": 3
   },
   "file_extension": ".py",
   "mimetype": "text/x-python",
   "name": "python",
   "nbconvert_exporter": "python",
   "pygments_lexer": "ipython3",
   "version": "3.6.7"
  },
  "latex_envs": {
   "LaTeX_envs_menu_present": true,
   "autoclose": false,
   "autocomplete": true,
   "bibliofile": "biblio.bib",
   "cite_by": "apalike",
   "current_citInitial": 1,
   "eqLabelWithNumbers": true,
   "eqNumInitial": 1,
   "hotkeys": {
    "equation": "Ctrl-E",
    "itemize": "Ctrl-I"
   },
   "labels_anchors": false,
   "latex_user_defs": false,
   "report_style_numbering": false,
   "user_envs_cfg": false
  },
  "toc": {
   "base_numbering": 1,
   "nav_menu": {},
   "number_sections": true,
   "sideBar": true,
   "skip_h1_title": false,
   "title_cell": "Table of Contents",
   "title_sidebar": "Contents",
   "toc_cell": false,
   "toc_position": {},
   "toc_section_display": true,
   "toc_window_display": false
  },
  "varInspector": {
   "cols": {
    "lenName": 16,
    "lenType": 16,
    "lenVar": 40
   },
   "kernels_config": {
    "python": {
     "delete_cmd_postfix": "",
     "delete_cmd_prefix": "del ",
     "library": "var_list.py",
     "varRefreshCmd": "print(var_dic_list())"
    },
    "r": {
     "delete_cmd_postfix": ") ",
     "delete_cmd_prefix": "rm(",
     "library": "var_list.r",
     "varRefreshCmd": "cat(var_dic_list()) "
    }
   },
   "types_to_exclude": [
    "module",
    "function",
    "builtin_function_or_method",
    "instance",
    "_Feature"
   ],
   "window_display": false
  }
 },
 "nbformat": 4,
 "nbformat_minor": 2
}
