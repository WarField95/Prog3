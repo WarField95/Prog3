{
 "cells": [
  {
   "cell_type": "code",
   "execution_count": 1,
   "metadata": {},
   "outputs": [],
   "source": [
    "import numpy\n",
    "nrOfListEntries = 10**6\n",
    "a = numpy.random.normal(3, 1, size = nrOfListEntries).astype(numpy.float32)"
   ]
  },
  {
   "cell_type": "code",
   "execution_count": 2,
   "metadata": {},
   "outputs": [],
   "source": [
    "%load_ext Cython\n"
   ]
  },
  {
   "cell_type": "code",
   "execution_count": 3,
   "metadata": {},
   "outputs": [
    {
     "ename": "SyntaxError",
     "evalue": "invalid syntax (<ipython-input-3-16688b390ca3>, line 11)",
     "output_type": "error",
     "traceback": [
      "\u001b[1;36m  File \u001b[1;32m\"<ipython-input-3-16688b390ca3>\"\u001b[1;36m, line \u001b[1;32m11\u001b[0m\n\u001b[1;33m    cimport numpy\u001b[0m\n\u001b[1;37m                ^\u001b[0m\n\u001b[1;31mSyntaxError\u001b[0m\u001b[1;31m:\u001b[0m invalid syntax\n"
     ]
    }
   ],
   "source": [
    "\n",
    "\n",
    "%%cython\n",
    "\n",
    "\"\"\"\n",
    "Implementation of mean and standard deviation calculation using\n",
    "cython\n",
    "\"\"\"\n",
    "#from __future__ import with_statement\n",
    "from cython.parallel import prange\n",
    "import numpy\n",
    "cimport numpy\n",
    "cimport cython\n",
    "from libc.math cimport sqrt\n",
    "\n",
    "ctypedef numpy.float32_t dtype_t\n",
    "\n",
    "@cython.boundscheck(False)\n",
    "@cython.cdivision(True)\n",
    "cpdef numpy.ndarray[dtype_t, ndim=1] cython_stat_parallel(\n",
    "        numpy.ndarray[dtype_t, ndim=1] l):\n",
    "    \"\"\"\n",
    "    calculate mean and standard deviation of data stored in a list\n",
    "    using cython parallel.\n",
    "    Args:\n",
    "        l numpy array containing numbers\n",
    "    Returns:\n",
    "        list [mean, standardDeviation] \n",
    "    \"\"\"\n",
    "    cdef double average, standard_deviation, skewness, kurtosis, tmp\n",
    "    cdef double accumulator = 0.0\n",
    "    cdef long N, i\n",
    "\n",
    "    N = len(l)\n",
    "    for i in range(N, nogil = True):\n",
    "        accumulator += l[i]\n",
    "    average = accumulator / N\n",
    "    accumulator = 0.0\n",
    "    for i in range(N, nogil = True):\n",
    "        tmp = l[i] - average\n",
    "        accumulator += tmp * tmp\n",
    "        skewness += tmp * tmp * tmp\n",
    "        kurtosis += tmp * tmp * tmp * tmp\n",
    "    standard_deviation = sqrt(accumulator / (N - 1))\n",
    "    skewness = skewness / pow(standard_deviation, 3)\n",
    "    kurtosis = kurtosis / pow(standard_deviation, 4)\n",
    "\n",
    "    result = numpy.array((average, standard_deviation, skewness, kurtosis), numpy.float32)\n",
    "    return result\n",
    "\n",
    "%timeit cython_stat(a)\n",
    "print(cython_stat(a))"
   ]
  }
 ],
 "metadata": {
  "kernelspec": {
   "display_name": "Python 3",
   "language": "python",
   "name": "python3"
  },
  "language_info": {
   "codemirror_mode": {
    "name": "ipython",
    "version": 3
   },
   "file_extension": ".py",
   "mimetype": "text/x-python",
   "name": "python",
   "nbconvert_exporter": "python",
   "pygments_lexer": "ipython3",
   "version": "3.6.7"
  }
 },
 "nbformat": 4,
 "nbformat_minor": 2
}
